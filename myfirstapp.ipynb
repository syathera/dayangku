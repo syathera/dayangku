{
  "nbformat": 4,
  "nbformat_minor": 0,
  "metadata": {
    "colab": {
      "provenance": []
    },
    "kernelspec": {
      "name": "python3",
      "display_name": "Python 3"
    },
    "language_info": {
      "name": "python"
    }
  },
  "cells": [
    {
      "cell_type": "code",
      "execution_count": 1,
      "metadata": {
        "colab": {
          "base_uri": "https://localhost:8080/",
          "height": 382
        },
        "id": "v7MB2X_0TeZd",
        "outputId": "c0a756f7-1b13-4cec-e450-f965bc320ec1"
      },
      "outputs": [
        {
          "output_type": "error",
          "ename": "ModuleNotFoundError",
          "evalue": "ignored",
          "traceback": [
            "\u001b[0;31m---------------------------------------------------------------------------\u001b[0m",
            "\u001b[0;31mModuleNotFoundError\u001b[0m                       Traceback (most recent call last)",
            "\u001b[0;32m<ipython-input-1-f6ef14247f52>\u001b[0m in \u001b[0;36m<module>\u001b[0;34m\u001b[0m\n\u001b[0;32m----> 1\u001b[0;31m \u001b[0;32mimport\u001b[0m \u001b[0mstreamlit\u001b[0m \u001b[0;32mas\u001b[0m \u001b[0mst\u001b[0m\u001b[0;34m\u001b[0m\u001b[0;34m\u001b[0m\u001b[0m\n\u001b[0m\u001b[1;32m      2\u001b[0m \u001b[0;32mimport\u001b[0m \u001b[0mnumpy\u001b[0m \u001b[0;32mas\u001b[0m \u001b[0mnp\u001b[0m\u001b[0;34m\u001b[0m\u001b[0;34m\u001b[0m\u001b[0m\n\u001b[1;32m      3\u001b[0m \u001b[0;32mimport\u001b[0m \u001b[0mpandas\u001b[0m \u001b[0;32mas\u001b[0m \u001b[0mpd\u001b[0m\u001b[0;34m\u001b[0m\u001b[0;34m\u001b[0m\u001b[0m\n\u001b[1;32m      4\u001b[0m \u001b[0;32mimport\u001b[0m \u001b[0mtime\u001b[0m\u001b[0;34m\u001b[0m\u001b[0;34m\u001b[0m\u001b[0m\n\u001b[1;32m      5\u001b[0m \u001b[0;34m\u001b[0m\u001b[0m\n",
            "\u001b[0;31mModuleNotFoundError\u001b[0m: No module named 'streamlit'",
            "",
            "\u001b[0;31m---------------------------------------------------------------------------\u001b[0;32m\nNOTE: If your import is failing due to a missing package, you can\nmanually install dependencies using either !pip or !apt.\n\nTo view examples of installing some common dependencies, click the\n\"Open Examples\" button below.\n\u001b[0;31m---------------------------------------------------------------------------\u001b[0m\n"
          ],
          "errorDetails": {
            "actions": [
              {
                "action": "open_url",
                "actionText": "Open Examples",
                "url": "/notebooks/snippets/importing_libraries.ipynb"
              }
            ]
          }
        }
      ],
      "source": [
        "import streamlit as st\n",
        "import numpy as np\n",
        "import pandas as pd\n",
        "import time\n",
        "\n",
        "st.header(\"My first Streamlit App\")\n",
        "\n",
        "option = st.sidebar.selectbox(\n",
        "    'Select a mini project',\n",
        "     ['line chart','map','T n C','Long Process'])\n",
        "\n",
        "if option=='line chart':\n",
        "    chart_data = pd.DataFrame(\n",
        "    np.random.randn(20, 3),\n",
        "    columns=['a', 'b', 'c'])\n",
        "\n",
        "    st.line_chart(chart_data)\n",
        "\n",
        "elif option=='map':\n",
        "    map_data = pd.DataFrame(\n",
        "    np.random.randn(1000, 2) / [50, 50] + [37.76, -122.4],\n",
        "    columns=['lat', 'lon'])\n",
        "\n",
        "    st.map(map_data)\n",
        "\n",
        "elif option=='T n C':\n",
        "    st.write('Before you continue, please read the [terms and conditions](https://www.gnu.org/licenses/gpl-3.0.en.html)')\n",
        "    show = st.checkbox('I agree the terms and conditions')\n",
        "    if show:\n",
        "        st.write(pd.DataFrame({\n",
        "        'Intplan': ['yes', 'yes', 'yes', 'no'],\n",
        "        'Churn Status': [0, 0, 0, 1]\n",
        "        }))\n",
        "\n",
        "else:\n",
        "    'Starting a long computation...'\n",
        "    \n",
        "    latest_iteration = st.empty()\n",
        "    bar = st.progress(0)\n",
        "\n",
        "    for i in range(100):\n",
        "   \n",
        "        latest_iteration.text(f'Iteration {i+1}')\n",
        "        bar.progress(i + 1)\n",
        "        time.sleep(0.1)\n",
        "\n",
        "    '...and now we\\'re done!'\n"
      ]
    }
  ]
}